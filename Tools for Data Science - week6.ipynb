{
 "cells": [
  {
   "cell_type": "markdown",
   "id": "414d1a0f",
   "metadata": {},
   "source": [
    "# Week 6"
   ]
  },
  {
   "cell_type": "markdown",
   "id": "baa90f9a",
   "metadata": {},
   "source": [
    "## Assignment for week 6"
   ]
  },
  {
   "cell_type": "markdown",
   "id": "14b0ff89",
   "metadata": {},
   "source": [
    "## Exercise 4 - Data science languages\n",
    "1. Python\n",
    "2. R\n",
    "3. SQL\n",
    "4. Julia\n",
    "5. Scala\n",
    "6. MATHLAB\n",
    "7. SAS\n",
    "8. JavaScript\n",
    "9. Java\n",
    "10. C/C++"
   ]
  },
  {
   "cell_type": "markdown",
   "id": "dee92418",
   "metadata": {},
   "source": [
    "## Exercise 5 - Data science libraries\n",
    "**Python**\n",
    "- Numpy\n",
    "- Pandas\n",
    "- Scikit-lerarn\n",
    "- TensorFlow\n",
    "- Matplotlib\n",
    "- SciPy"
   ]
  },
  {
   "cell_type": "markdown",
   "id": "db15bba6",
   "metadata": {},
   "source": [
    "## Exercise 6 - Data science tools\n",
    "| Tool          | Description                                     |\n",
    "|---------------|-------------------------------------------------|\n",
    "| Python        | Widely-used programming language for data science|\n",
    "| R             | Statistical computing and graphics              |\n",
    "| TensorFlow    | Open-source machine learning framework           |\n",
    "| PyTorch       | Deep learning framework                          |\n",
    "| Pandas        | Data manipulation and analysis library           |\n",
    "| NumPy         | Numerical computing library                      |\n",
    "| Scikit-learn  | Machine learning library                         |\n",
    "| Matplotlib    | Data visualization library                       |\n",
    "| Seaborn       | Statistical data visualization library           |"
   ]
  },
  {
   "cell_type": "markdown",
   "id": "d86e6167",
   "metadata": {},
   "source": [
    "## Exercise 7 - Arithmetic Expression\n"
   ]
  },
  {
   "cell_type": "code",
   "execution_count": 32,
   "id": "4fac4ad8",
   "metadata": {},
   "outputs": [
    {
     "name": "stdout",
     "output_type": "stream",
     "text": [
      "5\n",
      "3\n",
      "24\n",
      "5.0\n"
     ]
    }
   ],
   "source": [
    "## 1. Addition **\n",
    "a = 2 + 3\n",
    "print(a)\n",
    "\n",
    "## 2. Subtraction\n",
    "b = 5 - 2\n",
    "print(b)\n",
    "\n",
    "## 3. Multiplication\n",
    "c = 4 * 6\n",
    "print(c)\n",
    "\n",
    "## 4. Division\n",
    "d = 10 / 2\n",
    "print(d)"
   ]
  },
  {
   "cell_type": "markdown",
   "id": "b020ad66",
   "metadata": {},
   "source": [
    "# Exercise 8 - Multiply and add numbers"
   ]
  },
  {
   "cell_type": "code",
   "execution_count": 34,
   "id": "fd64c78c",
   "metadata": {},
   "outputs": [
    {
     "name": "stdout",
     "output_type": "stream",
     "text": [
      "9\n"
     ]
    }
   ],
   "source": [
    "## Multiplication\n",
    "result = (1 + 2 ) * 3\n",
    "print(result)\n"
   ]
  },
  {
   "cell_type": "markdown",
   "id": "0803d0e0",
   "metadata": {},
   "source": [
    "# Exercise 9 - convert minutes to hours"
   ]
  },
  {
   "cell_type": "code",
   "execution_count": 12,
   "id": "0dfbece1",
   "metadata": {},
   "outputs": [
    {
     "name": "stdout",
     "output_type": "stream",
     "text": [
      "60 minutes is equal to 1.0 hours.\n"
     ]
    }
   ],
   "source": [
    "def mins_to_hours(minutes):\n",
    "    hours = minutes / 60\n",
    "    return hours\n",
    "\n",
    "# Example usage\n",
    "minutes = 60\n",
    "hours = mins_to_hours(minutes)\n",
    "print(f\"{minutes} minutes is equal to {hours} hours.\")\n"
   ]
  },
  {
   "cell_type": "markdown",
   "id": "96b99d74",
   "metadata": {},
   "source": [
    "# Exercise 10 - list objectives\n",
    "1. Data Collection\n",
    "2. Data Preprocessing\n",
    "3. Exploratory Data Analysis\n",
    "4. Model Development\n",
    "5. Model Evaluation\n",
    "6. Model Deployment\n",
    "7. Documentation\n"
   ]
  },
  {
   "cell_type": "markdown",
   "id": "2c6a49b0",
   "metadata": {},
   "source": [
    "# Exercise 11 - Author's name\n",
    "## Sieon Lee"
   ]
  },
  {
   "cell_type": "code",
   "execution_count": null,
   "id": "1d123906",
   "metadata": {},
   "outputs": [],
   "source": []
  }
 ],
 "metadata": {
  "kernelspec": {
   "display_name": "Python 3 (ipykernel)",
   "language": "python",
   "name": "python3"
  },
  "language_info": {
   "codemirror_mode": {
    "name": "ipython",
    "version": 3
   },
   "file_extension": ".py",
   "mimetype": "text/x-python",
   "name": "python",
   "nbconvert_exporter": "python",
   "pygments_lexer": "ipython3",
   "version": "3.9.13"
  }
 },
 "nbformat": 4,
 "nbformat_minor": 5
}
